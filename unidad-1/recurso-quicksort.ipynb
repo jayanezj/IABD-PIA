{
  "nbformat": 4,
  "nbformat_minor": 0,
  "metadata": {
    "colab": {
      "provenance": [],
      "include_colab_link": true
    },
    "kernelspec": {
      "name": "python3",
      "display_name": "Python 3"
    },
    "language_info": {
      "name": "python"
    }
  },
  "cells": [
    {
      "cell_type": "markdown",
      "metadata": {
        "id": "view-in-github",
        "colab_type": "text"
      },
      "source": [
        "<a href=\"https://colab.research.google.com/github/jayanezj/IABD-PIA/blob/main/unidad-1/recurso-quicksort.ipynb\" target=\"_parent\"><img src=\"https://colab.research.google.com/assets/colab-badge.svg\" alt=\"Open In Colab\"/></a>"
      ]
    },
    {
      "cell_type": "markdown",
      "source": [
        "# Implementación del algoritmo de ordenación de listas: ```quicksort```"
      ],
      "metadata": {
        "id": "Cm25xvZC5yOT"
      }
    },
    {
      "cell_type": "markdown",
      "source": [
        "A continuación, proponemos, como ejercicio resuelto y para potenciar la parte de programación con Python, la implementación del algoritmo de ordenación ```quicksort```.\n",
        "\n",
        "Este algoritmo permite ordenar una lista desordenada de forma más eficiente que otros algoritmos, como el de burbuja.\n",
        "\n",
        "La finalidad de este ejercicio es utilizar listas, sus funciones asociadas y funciones recursivas. Para lograr el objetivo final, realiza:\n",
        "- Una función que permita fusionar dos listas ordenadas. Esto es, dadas las listas [2, 4] y [3, 6] (por ejemplo), debería devolver la lista [2, 3, 4, 6].\n",
        "- Una función recursiva (que se llame a sí misma) que defina los casos básicos de la ordenación y el método para los casos que no sean simples.\n",
        "\n",
        "Si no conoces este algoritmo, tienes su [explicación aquí](https://www.youtube.com/watch?v=WprjBK0p6rw)."
      ],
      "metadata": {
        "id": "6TfGTyM1528I"
      }
    },
    {
      "cell_type": "code",
      "source": [],
      "metadata": {
        "id": "NxjKyGBW6xha"
      },
      "execution_count": null,
      "outputs": []
    },
    {
      "cell_type": "markdown",
      "source": [
        "# Soluciones"
      ],
      "metadata": {
        "id": "Qh2GRJRT6yB0"
      }
    },
    {
      "cell_type": "markdown",
      "source": [
        "A continuación encontrarás las soluciones.\n",
        "\n",
        "En primer lugar, definimos una función para fusionar dos listas ordenadas."
      ],
      "metadata": {
        "id": "Fy2_OrGt6zaC"
      }
    },
    {
      "cell_type": "code",
      "execution_count": null,
      "metadata": {
        "id": "86F3sKxdsiLS"
      },
      "outputs": [],
      "source": [
        "def fuse(l1, l2):\n",
        "  result = [] # el resultado inicial es vacío\n",
        "\n",
        "  while l1 and l2: # mientras tenga elementos en las listas para ordenar\n",
        "    value = l1.pop(0) if l1[0] <= l2[0] else l2.pop(0) # obtengo el valor más pequeño de una o de otra, este valor se elimina\n",
        "    result.append(value) # añado al resultado este valor\n",
        "\n",
        "  if l1: # si al terminar sigo teniendo valores en la primera lista, los añado\n",
        "    result.extend(l1)\n",
        "  if l2: # idem para la segunda lista\n",
        "    result.extend(l2)\n",
        "\n",
        "  return result # devuelvo el resultado"
      ]
    },
    {
      "cell_type": "markdown",
      "source": [
        "Después, implementamos el quicksort."
      ],
      "metadata": {
        "id": "ehEC1YFV7Fqh"
      }
    },
    {
      "cell_type": "code",
      "source": [
        "def quicksort(l):\n",
        "  if not l or len(l) == 1: # casos básicos: listas vacías o de solo un elemento\n",
        "    return l # devuelvo la propia lista\n",
        "  else: # casos complejos\n",
        "    piv = l[0] # obtengo el pivote de la lista (un valor cualquiera)\n",
        "    minus = [e for e in l[1:] if e <= piv] # obtengo (por compresión) todos los elementos más pequeños o iguales\n",
        "    mayus = [e for e in l[1:] if e > piv] # obtengo todos los elementos más grandes\n",
        "\n",
        "    return fuse(fuse(quicksort(minus), [piv]), quicksort(mayus)) # devuelvo el resultado recursivo (propia llamada), de las sublistas y la función de fusión"
      ],
      "metadata": {
        "id": "48QbP2nts443"
      },
      "execution_count": null,
      "outputs": []
    },
    {
      "cell_type": "code",
      "source": [
        "import random # módulo para números aleatorios\n",
        "\n",
        "l = [random.randint(0, 100) for _ in range(10)] # genero una lista de 10 elementos aleatorios\n",
        "quicksort(l) # pruebo a ver si funciona"
      ],
      "metadata": {
        "colab": {
          "base_uri": "https://localhost:8080/"
        },
        "id": "4PQxSPkLtK7e",
        "outputId": "be7dc098-dcdf-43c3-f403-a6efec90f5fb"
      },
      "execution_count": null,
      "outputs": [
        {
          "output_type": "execute_result",
          "data": {
            "text/plain": [
              "[10, 24, 26, 28, 43, 66, 71, 75, 88, 100]"
            ]
          },
          "metadata": {},
          "execution_count": 21
        }
      ]
    }
  ]
}